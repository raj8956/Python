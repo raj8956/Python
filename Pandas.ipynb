{
 "cells": [
  {
   "cell_type": "code",
   "execution_count": 1,
   "id": "ea390921",
   "metadata": {},
   "outputs": [
    {
     "name": "stdout",
     "output_type": "stream",
     "text": [
      "\n",
      "INSTALLED VERSIONS\n",
      "------------------\n",
      "commit           : 4bfe3d07b4858144c219b9346329027024102ab6\n",
      "python           : 3.9.13.final.0\n",
      "python-bits      : 64\n",
      "OS               : Windows\n",
      "OS-release       : 10\n",
      "Version          : 10.0.22000\n",
      "machine          : AMD64\n",
      "processor        : Intel64 Family 6 Model 126 Stepping 5, GenuineIntel\n",
      "byteorder        : little\n",
      "LC_ALL           : None\n",
      "LANG             : None\n",
      "LOCALE           : English_United States.1252\n",
      "\n",
      "pandas           : 1.4.2\n",
      "numpy            : 1.22.4\n",
      "pytz             : 2022.1\n",
      "dateutil         : 2.8.2\n",
      "pip              : 22.2.2\n",
      "setuptools       : 58.1.0\n",
      "Cython           : None\n",
      "pytest           : None\n",
      "hypothesis       : None\n",
      "sphinx           : None\n",
      "blosc            : None\n",
      "feather          : None\n",
      "xlsxwriter       : None\n",
      "lxml.etree       : 4.9.1\n",
      "html5lib         : 1.1\n",
      "pymysql          : 1.0.2\n",
      "psycopg2         : None\n",
      "jinja2           : 3.1.2\n",
      "IPython          : 8.4.0\n",
      "pandas_datareader: None\n",
      "bs4              : 4.11.1\n",
      "bottleneck       : None\n",
      "brotli           : None\n",
      "fastparquet      : None\n",
      "fsspec           : 2022.5.0\n",
      "gcsfs            : None\n",
      "markupsafe       : 2.1.1\n",
      "matplotlib       : 3.5.2\n",
      "numba            : None\n",
      "numexpr          : None\n",
      "odfpy            : None\n",
      "openpyxl         : None\n",
      "pandas_gbq       : None\n",
      "pyarrow          : None\n",
      "pyreadstat       : None\n",
      "pyxlsb           : None\n",
      "s3fs             : 2022.5.0\n",
      "scipy            : None\n",
      "snappy           : None\n",
      "sqlalchemy       : None\n",
      "tables           : None\n",
      "tabulate         : None\n",
      "xarray           : None\n",
      "xlrd             : None\n",
      "xlwt             : None\n",
      "zstandard        : None\n"
     ]
    },
    {
     "data": {
      "text/plain": [
       "<module 'pandas' from 'C:\\\\Users\\\\19195\\\\AppData\\\\Local\\\\Programs\\\\Python\\\\Python39\\\\lib\\\\site-packages\\\\pandas\\\\__init__.py'>"
      ]
     },
     "execution_count": 1,
     "metadata": {},
     "output_type": "execute_result"
    }
   ],
   "source": [
    "import pandas as pd\n",
    "pd.__version__\n",
    "pd\n",
    "pd.show_versions()\n",
    "pd"
   ]
  },
  {
   "cell_type": "code",
   "execution_count": 2,
   "id": "45bf9261",
   "metadata": {},
   "outputs": [
    {
     "ename": "SyntaxError",
     "evalue": "invalid syntax (334211823.py, line 1)",
     "output_type": "error",
     "traceback": [
      "\u001b[1;36m  Input \u001b[1;32mIn [2]\u001b[1;36m\u001b[0m\n\u001b[1;33m    pd.read_csv?    #Question mark at the end means 'help' which gives the detail information\u001b[0m\n\u001b[1;37m               ^\u001b[0m\n\u001b[1;31mSyntaxError\u001b[0m\u001b[1;31m:\u001b[0m invalid syntax\n"
     ]
    }
   ],
   "source": [
    "pd.read_csv?    #Question mark at the end means 'help' which gives the detail information \n"
   ]
  },
  {
   "cell_type": "code",
   "execution_count": 3,
   "id": "320cbd85",
   "metadata": {},
   "outputs": [
    {
     "data": {
      "text/html": [
       "<div>\n",
       "<style scoped>\n",
       "    .dataframe tbody tr th:only-of-type {\n",
       "        vertical-align: middle;\n",
       "    }\n",
       "\n",
       "    .dataframe tbody tr th {\n",
       "        vertical-align: top;\n",
       "    }\n",
       "\n",
       "    .dataframe thead th {\n",
       "        text-align: right;\n",
       "    }\n",
       "</style>\n",
       "<table border=\"1\" class=\"dataframe\">\n",
       "  <thead>\n",
       "    <tr style=\"text-align: right;\">\n",
       "      <th></th>\n",
       "      <th>City</th>\n",
       "      <th>Edition</th>\n",
       "      <th>Sport</th>\n",
       "      <th>Discipline</th>\n",
       "      <th>Athlete</th>\n",
       "      <th>NOC</th>\n",
       "      <th>Gender</th>\n",
       "      <th>Event</th>\n",
       "      <th>Event_gender</th>\n",
       "      <th>Medal</th>\n",
       "    </tr>\n",
       "  </thead>\n",
       "  <tbody>\n",
       "    <tr>\n",
       "      <th>0</th>\n",
       "      <td>Athens</td>\n",
       "      <td>1896</td>\n",
       "      <td>Aquatics</td>\n",
       "      <td>Swimming</td>\n",
       "      <td>HAJOS, Alfred</td>\n",
       "      <td>HUN</td>\n",
       "      <td>Men</td>\n",
       "      <td>100m freestyle</td>\n",
       "      <td>M</td>\n",
       "      <td>Gold</td>\n",
       "    </tr>\n",
       "    <tr>\n",
       "      <th>1</th>\n",
       "      <td>Athens</td>\n",
       "      <td>1896</td>\n",
       "      <td>Aquatics</td>\n",
       "      <td>Swimming</td>\n",
       "      <td>HERSCHMANN, Otto</td>\n",
       "      <td>AUT</td>\n",
       "      <td>Men</td>\n",
       "      <td>100m freestyle</td>\n",
       "      <td>M</td>\n",
       "      <td>Silver</td>\n",
       "    </tr>\n",
       "    <tr>\n",
       "      <th>2</th>\n",
       "      <td>Athens</td>\n",
       "      <td>1896</td>\n",
       "      <td>Aquatics</td>\n",
       "      <td>Swimming</td>\n",
       "      <td>DRIVAS, Dimitrios</td>\n",
       "      <td>GRE</td>\n",
       "      <td>Men</td>\n",
       "      <td>100m freestyle for sailors</td>\n",
       "      <td>M</td>\n",
       "      <td>Bronze</td>\n",
       "    </tr>\n",
       "    <tr>\n",
       "      <th>3</th>\n",
       "      <td>Athens</td>\n",
       "      <td>1896</td>\n",
       "      <td>Aquatics</td>\n",
       "      <td>Swimming</td>\n",
       "      <td>MALOKINIS, Ioannis</td>\n",
       "      <td>GRE</td>\n",
       "      <td>Men</td>\n",
       "      <td>100m freestyle for sailors</td>\n",
       "      <td>M</td>\n",
       "      <td>Gold</td>\n",
       "    </tr>\n",
       "    <tr>\n",
       "      <th>4</th>\n",
       "      <td>Athens</td>\n",
       "      <td>1896</td>\n",
       "      <td>Aquatics</td>\n",
       "      <td>Swimming</td>\n",
       "      <td>CHASAPIS, Spiridon</td>\n",
       "      <td>GRE</td>\n",
       "      <td>Men</td>\n",
       "      <td>100m freestyle for sailors</td>\n",
       "      <td>M</td>\n",
       "      <td>Silver</td>\n",
       "    </tr>\n",
       "  </tbody>\n",
       "</table>\n",
       "</div>"
      ],
      "text/plain": [
       "     City  Edition     Sport Discipline             Athlete  NOC Gender  \\\n",
       "0  Athens     1896  Aquatics   Swimming       HAJOS, Alfred  HUN    Men   \n",
       "1  Athens     1896  Aquatics   Swimming    HERSCHMANN, Otto  AUT    Men   \n",
       "2  Athens     1896  Aquatics   Swimming   DRIVAS, Dimitrios  GRE    Men   \n",
       "3  Athens     1896  Aquatics   Swimming  MALOKINIS, Ioannis  GRE    Men   \n",
       "4  Athens     1896  Aquatics   Swimming  CHASAPIS, Spiridon  GRE    Men   \n",
       "\n",
       "                        Event Event_gender   Medal  \n",
       "0              100m freestyle            M    Gold  \n",
       "1              100m freestyle            M  Silver  \n",
       "2  100m freestyle for sailors            M  Bronze  \n",
       "3  100m freestyle for sailors            M    Gold  \n",
       "4  100m freestyle for sailors            M  Silver  "
      ]
     },
     "execution_count": 3,
     "metadata": {},
     "output_type": "execute_result"
    }
   ],
   "source": [
    "import pandas as pd\n",
    "df = pd.read_csv(\"C:\\\\Users\\\\19195\\\\Desktop\\\\DataAnalytics\\\\Python\\\\Ex_Files_Pandas_EssT\\\\ExerciseFiles\\\\data\\\\olympics.csv\")\n",
    "df.head()\n",
    "# df.shape   #shape gives rows and column\n",
    "# df.size    #gives the total elements \n",
    "\n",
    "# df.info()   #give sth detail info "
   ]
  },
  {
   "cell_type": "code",
   "execution_count": null,
   "id": "03562943",
   "metadata": {},
   "outputs": [],
   "source": [
    "df.City      # both way is OKAy if we want single column\n",
    "df['City']\n",
    "\n"
   ]
  },
  {
   "cell_type": "code",
   "execution_count": null,
   "id": "d93f944e",
   "metadata": {},
   "outputs": [],
   "source": [
    "#if we want series of column\n",
    "df[['City', 'Athlete', 'Sport']]\n"
   ]
  },
  {
   "cell_type": "code",
   "execution_count": null,
   "id": "57c1f6d1",
   "metadata": {},
   "outputs": [],
   "source": [
    "#another way \n",
    "df.loc[:3]   #series of row , \n"
   ]
  },
  {
   "cell_type": "code",
   "execution_count": 1,
   "id": "81df90d1",
   "metadata": {},
   "outputs": [
    {
     "data": {
      "text/html": [
       "<div>\n",
       "<style scoped>\n",
       "    .dataframe tbody tr th:only-of-type {\n",
       "        vertical-align: middle;\n",
       "    }\n",
       "\n",
       "    .dataframe tbody tr th {\n",
       "        vertical-align: top;\n",
       "    }\n",
       "\n",
       "    .dataframe thead th {\n",
       "        text-align: right;\n",
       "    }\n",
       "</style>\n",
       "<table border=\"1\" class=\"dataframe\">\n",
       "  <thead>\n",
       "    <tr style=\"text-align: right;\">\n",
       "      <th></th>\n",
       "      <th>Edition</th>\n",
       "      <th>City</th>\n",
       "      <th>Athlete</th>\n",
       "      <th>Medal</th>\n",
       "    </tr>\n",
       "  </thead>\n",
       "  <tbody>\n",
       "    <tr>\n",
       "      <th>0</th>\n",
       "      <td>1896</td>\n",
       "      <td>Athens</td>\n",
       "      <td>HAJOS, Alfred</td>\n",
       "      <td>Gold</td>\n",
       "    </tr>\n",
       "    <tr>\n",
       "      <th>1</th>\n",
       "      <td>1896</td>\n",
       "      <td>Athens</td>\n",
       "      <td>HERSCHMANN, Otto</td>\n",
       "      <td>Silver</td>\n",
       "    </tr>\n",
       "    <tr>\n",
       "      <th>2</th>\n",
       "      <td>1896</td>\n",
       "      <td>Athens</td>\n",
       "      <td>DRIVAS, Dimitrios</td>\n",
       "      <td>Bronze</td>\n",
       "    </tr>\n",
       "    <tr>\n",
       "      <th>3</th>\n",
       "      <td>1896</td>\n",
       "      <td>Athens</td>\n",
       "      <td>MALOKINIS, Ioannis</td>\n",
       "      <td>Gold</td>\n",
       "    </tr>\n",
       "    <tr>\n",
       "      <th>4</th>\n",
       "      <td>1896</td>\n",
       "      <td>Athens</td>\n",
       "      <td>CHASAPIS, Spiridon</td>\n",
       "      <td>Silver</td>\n",
       "    </tr>\n",
       "    <tr>\n",
       "      <th>...</th>\n",
       "      <td>...</td>\n",
       "      <td>...</td>\n",
       "      <td>...</td>\n",
       "      <td>...</td>\n",
       "    </tr>\n",
       "    <tr>\n",
       "      <th>29211</th>\n",
       "      <td>2008</td>\n",
       "      <td>Beijing</td>\n",
       "      <td>ENGLICH, Mirko</td>\n",
       "      <td>Silver</td>\n",
       "    </tr>\n",
       "    <tr>\n",
       "      <th>29212</th>\n",
       "      <td>2008</td>\n",
       "      <td>Beijing</td>\n",
       "      <td>MIZGAITIS, Mindaugas</td>\n",
       "      <td>Bronze</td>\n",
       "    </tr>\n",
       "    <tr>\n",
       "      <th>29213</th>\n",
       "      <td>2008</td>\n",
       "      <td>Beijing</td>\n",
       "      <td>PATRIKEEV, Yuri</td>\n",
       "      <td>Bronze</td>\n",
       "    </tr>\n",
       "    <tr>\n",
       "      <th>29214</th>\n",
       "      <td>2008</td>\n",
       "      <td>Beijing</td>\n",
       "      <td>LOPEZ, Mijain</td>\n",
       "      <td>Gold</td>\n",
       "    </tr>\n",
       "    <tr>\n",
       "      <th>29215</th>\n",
       "      <td>2008</td>\n",
       "      <td>Beijing</td>\n",
       "      <td>BAROEV, Khasan</td>\n",
       "      <td>Silver</td>\n",
       "    </tr>\n",
       "  </tbody>\n",
       "</table>\n",
       "<p>29216 rows × 4 columns</p>\n",
       "</div>"
      ],
      "text/plain": [
       "       Edition     City               Athlete   Medal\n",
       "0         1896   Athens         HAJOS, Alfred    Gold\n",
       "1         1896   Athens      HERSCHMANN, Otto  Silver\n",
       "2         1896   Athens     DRIVAS, Dimitrios  Bronze\n",
       "3         1896   Athens    MALOKINIS, Ioannis    Gold\n",
       "4         1896   Athens    CHASAPIS, Spiridon  Silver\n",
       "...        ...      ...                   ...     ...\n",
       "29211     2008  Beijing        ENGLICH, Mirko  Silver\n",
       "29212     2008  Beijing  MIZGAITIS, Mindaugas  Bronze\n",
       "29213     2008  Beijing       PATRIKEEV, Yuri  Bronze\n",
       "29214     2008  Beijing         LOPEZ, Mijain    Gold\n",
       "29215     2008  Beijing        BAROEV, Khasan  Silver\n",
       "\n",
       "[29216 rows x 4 columns]"
      ]
     },
     "execution_count": 1,
     "metadata": {},
     "output_type": "execute_result"
    }
   ],
   "source": [
    "import pandas as pd\n",
    "df = pd.read_csv(\"C:\\\\Users\\\\19195\\\\Desktop\\\\DataAnalytics\\\\Python\\\\Ex_Files_Pandas_EssT\\\\ExerciseFiles\\\\data\\\\olympics.csv\")\n",
    "#df.NOC      #Three different way to find the data frame\n",
    "#df['NOC']\n",
    "df[['Edition', 'City', 'Athlete', 'Medal']]\n"
   ]
  },
  {
   "cell_type": "code",
   "execution_count": null,
   "id": "3e3d2ce3",
   "metadata": {
    "scrolled": true
   },
   "outputs": [],
   "source": [
    "type(df[['Edition', 'City', 'Athlete', 'Medal']])      #type of Object i.e Object"
   ]
  },
  {
   "cell_type": "code",
   "execution_count": null,
   "id": "ad2e0653",
   "metadata": {},
   "outputs": [],
   "source": [
    "type(df['NOC'])   #type of Object i.e series"
   ]
  },
  {
   "cell_type": "markdown",
   "id": "6fa17049",
   "metadata": {},
   "source": [
    "# Value_counts()\n"
   ]
  },
  {
   "cell_type": "code",
   "execution_count": 2,
   "id": "3ea0c502",
   "metadata": {},
   "outputs": [
    {
     "data": {
      "text/plain": [
       "Athens                   2149\n",
       "Los Angeles              2074\n",
       "Beijing                  2042\n",
       "Sydney                   2015\n",
       "Atlanta                  1859\n",
       "Barcelona                1705\n",
       "London                   1618\n",
       "Seoul                    1546\n",
       "Paris                    1396\n",
       "Moscow                   1387\n",
       "Montreal                 1305\n",
       "Antwerp                  1298\n",
       "Munich                   1185\n",
       "Mexico                   1031\n",
       "Tokyo                    1010\n",
       "Helsinki                  889\n",
       "Stockholm                 885\n",
       "Melbourne / Stockholm     885\n",
       "Rome                      882\n",
       "Berlin                    875\n",
       "Amsterdam                 710\n",
       "St Louis                  470\n",
       "Name: City, dtype: int64"
      ]
     },
     "execution_count": 2,
     "metadata": {},
     "output_type": "execute_result"
    }
   ],
   "source": [
    "import pandas as pd\n",
    "df = pd.read_csv(\"C:\\\\Users\\\\19195\\\\Desktop\\\\DataAnalytics\\\\Python\\\\Ex_Files_Pandas_EssT\\\\ExerciseFiles\\\\data\\\\olympics.csv\")\n",
    "df.City.value_counts()  #counts the total numbers of Value i.e Athens has 2149 repetation in row"
   ]
  },
  {
   "cell_type": "code",
   "execution_count": null,
   "id": "89d355f9",
   "metadata": {},
   "outputs": [],
   "source": [
    "df.Gender.value_counts()    #gives the total number of Male and female "
   ]
  },
  {
   "cell_type": "code",
   "execution_count": null,
   "id": "ed835084",
   "metadata": {},
   "outputs": [],
   "source": [
    "df.Gender.value_counts(ascending=True, dropna = False)   #ascending order and Not gives  NA value "
   ]
  },
  {
   "cell_type": "markdown",
   "id": "fe7e7372",
   "metadata": {},
   "source": [
    "# sort_values()   "
   ]
  },
  {
   "cell_type": "code",
   "execution_count": null,
   "id": "77892244",
   "metadata": {},
   "outputs": [],
   "source": [
    "df.Athlete.sort_values()   #sort the values on ascending order"
   ]
  },
  {
   "cell_type": "code",
   "execution_count": null,
   "id": "cab0b342",
   "metadata": {
    "scrolled": true
   },
   "outputs": [],
   "source": [
    "df.sort_values(by=['Edition', 'Athlete']).head()  #sorts the value by Edition and Athlet\n"
   ]
  },
  {
   "cell_type": "markdown",
   "id": "cd089de3",
   "metadata": {},
   "source": [
    "# Boolean_indexing"
   ]
  },
  {
   "cell_type": "code",
   "execution_count": null,
   "id": "9f807f63",
   "metadata": {},
   "outputs": [],
   "source": [
    "df[df.Medal == 'Gold' ]   # gives all the GOLD medal winners"
   ]
  },
  {
   "cell_type": "code",
   "execution_count": null,
   "id": "2e2ec299",
   "metadata": {},
   "outputs": [],
   "source": [
    "df[(df.Medal == 'Gold') & (df.Gender == 'Men')]  #Gives all the male Gold Winners\n"
   ]
  },
  {
   "cell_type": "code",
   "execution_count": 3,
   "id": "431a56e6",
   "metadata": {},
   "outputs": [
    {
     "data": {
      "text/plain": [
       "<AxesSubplot:xlabel='Edition,City'>"
      ]
     },
     "execution_count": 3,
     "metadata": {},
     "output_type": "execute_result"
    },
    {
     "data": {
      "image/png": "[encoded data removed]",
      "text/plain": [
       "<Figure size 720x360 with 1 Axes>"
      ]
     },
     "metadata": {
      "needs_background": "light"
     },
     "output_type": "display_data"
    }
   ],
   "source": [
    "d = df[(df.Medal == 'Silver') & (df.Gender == 'Women') & (df.Sport == 'Tennis')]  \n",
    "d.groupby('Edition').size()\n",
    "d.value_counts(['Edition', 'City']).plot(kind = 'bar', figsize = (10,5))"
   ]
  },
  {
   "cell_type": "code",
   "execution_count": 2,
   "id": "8cdcf72e",
   "metadata": {},
   "outputs": [
    {
     "data": {
      "text/html": [
       "<div>\n",
       "<style scoped>\n",
       "    .dataframe tbody tr th:only-of-type {\n",
       "        vertical-align: middle;\n",
       "    }\n",
       "\n",
       "    .dataframe tbody tr th {\n",
       "        vertical-align: top;\n",
       "    }\n",
       "\n",
       "    .dataframe thead th {\n",
       "        text-align: right;\n",
       "    }\n",
       "</style>\n",
       "<table border=\"1\" class=\"dataframe\">\n",
       "  <thead>\n",
       "    <tr style=\"text-align: right;\">\n",
       "      <th></th>\n",
       "      <th>City</th>\n",
       "      <th>Edition</th>\n",
       "      <th>Sport</th>\n",
       "      <th>Discipline</th>\n",
       "      <th>Athlete</th>\n",
       "      <th>NOC</th>\n",
       "      <th>Gender</th>\n",
       "      <th>Event</th>\n",
       "      <th>Event_gender</th>\n",
       "      <th>Medal</th>\n",
       "    </tr>\n",
       "  </thead>\n",
       "  <tbody>\n",
       "    <tr>\n",
       "      <th>18</th>\n",
       "      <td>Athens</td>\n",
       "      <td>1896</td>\n",
       "      <td>Athletics</td>\n",
       "      <td>Athletics</td>\n",
       "      <td>FLACK, Edwin</td>\n",
       "      <td>AUS</td>\n",
       "      <td>Men</td>\n",
       "      <td>1500m</td>\n",
       "      <td>M</td>\n",
       "      <td>Gold</td>\n",
       "    </tr>\n",
       "    <tr>\n",
       "      <th>24</th>\n",
       "      <td>Athens</td>\n",
       "      <td>1896</td>\n",
       "      <td>Athletics</td>\n",
       "      <td>Athletics</td>\n",
       "      <td>FLACK, Edwin</td>\n",
       "      <td>AUS</td>\n",
       "      <td>Men</td>\n",
       "      <td>800m</td>\n",
       "      <td>M</td>\n",
       "      <td>Gold</td>\n",
       "    </tr>\n",
       "    <tr>\n",
       "      <th>51</th>\n",
       "      <td>Athens</td>\n",
       "      <td>1896</td>\n",
       "      <td>Cycling</td>\n",
       "      <td>Cycling Track</td>\n",
       "      <td>FLAMENG, Léon</td>\n",
       "      <td>FRA</td>\n",
       "      <td>Men</td>\n",
       "      <td>100km</td>\n",
       "      <td>M</td>\n",
       "      <td>Gold</td>\n",
       "    </tr>\n",
       "    <tr>\n",
       "      <th>55</th>\n",
       "      <td>Athens</td>\n",
       "      <td>1896</td>\n",
       "      <td>Cycling</td>\n",
       "      <td>Cycling Track</td>\n",
       "      <td>FLAMENG, Léon</td>\n",
       "      <td>FRA</td>\n",
       "      <td>Men</td>\n",
       "      <td>10km</td>\n",
       "      <td>M</td>\n",
       "      <td>Silver</td>\n",
       "    </tr>\n",
       "    <tr>\n",
       "      <th>61</th>\n",
       "      <td>Athens</td>\n",
       "      <td>1896</td>\n",
       "      <td>Cycling</td>\n",
       "      <td>Cycling Track</td>\n",
       "      <td>FLAMENG, Léon</td>\n",
       "      <td>FRA</td>\n",
       "      <td>Men</td>\n",
       "      <td>Sprint indivual</td>\n",
       "      <td>M</td>\n",
       "      <td>Bronze</td>\n",
       "    </tr>\n",
       "    <tr>\n",
       "      <th>...</th>\n",
       "      <td>...</td>\n",
       "      <td>...</td>\n",
       "      <td>...</td>\n",
       "      <td>...</td>\n",
       "      <td>...</td>\n",
       "      <td>...</td>\n",
       "      <td>...</td>\n",
       "      <td>...</td>\n",
       "      <td>...</td>\n",
       "      <td>...</td>\n",
       "    </tr>\n",
       "    <tr>\n",
       "      <th>29015</th>\n",
       "      <td>Beijing</td>\n",
       "      <td>2008</td>\n",
       "      <td>Triathlon</td>\n",
       "      <td>Triathlon</td>\n",
       "      <td>FERNANDES, Vanessa</td>\n",
       "      <td>POR</td>\n",
       "      <td>Women</td>\n",
       "      <td>Individual</td>\n",
       "      <td>W</td>\n",
       "      <td>Silver</td>\n",
       "    </tr>\n",
       "    <tr>\n",
       "      <th>29056</th>\n",
       "      <td>Beijing</td>\n",
       "      <td>2008</td>\n",
       "      <td>Volleyball</td>\n",
       "      <td>Volleyball</td>\n",
       "      <td>FUCHS, Samuel</td>\n",
       "      <td>BRA</td>\n",
       "      <td>Men</td>\n",
       "      <td>volleyball</td>\n",
       "      <td>M</td>\n",
       "      <td>Silver</td>\n",
       "    </tr>\n",
       "    <tr>\n",
       "      <th>29064</th>\n",
       "      <td>Beijing</td>\n",
       "      <td>2008</td>\n",
       "      <td>Volleyball</td>\n",
       "      <td>Volleyball</td>\n",
       "      <td>FENG, Kun</td>\n",
       "      <td>CHN</td>\n",
       "      <td>Women</td>\n",
       "      <td>volleyball</td>\n",
       "      <td>W</td>\n",
       "      <td>Bronze</td>\n",
       "    </tr>\n",
       "    <tr>\n",
       "      <th>29160</th>\n",
       "      <td>Beijing</td>\n",
       "      <td>2008</td>\n",
       "      <td>Wrestling</td>\n",
       "      <td>Wrestling Free.</td>\n",
       "      <td>FEDORYSHYN, Vasyl</td>\n",
       "      <td>UKR</td>\n",
       "      <td>Men</td>\n",
       "      <td>55 - 60kg</td>\n",
       "      <td>M</td>\n",
       "      <td>Silver</td>\n",
       "    </tr>\n",
       "    <tr>\n",
       "      <th>29207</th>\n",
       "      <td>Beijing</td>\n",
       "      <td>2008</td>\n",
       "      <td>Wrestling</td>\n",
       "      <td>Wrestling Gre-R</td>\n",
       "      <td>FODOR, Zoltan</td>\n",
       "      <td>HUN</td>\n",
       "      <td>Men</td>\n",
       "      <td>74 - 84kg</td>\n",
       "      <td>M</td>\n",
       "      <td>Silver</td>\n",
       "    </tr>\n",
       "  </tbody>\n",
       "</table>\n",
       "<p>945 rows × 10 columns</p>\n",
       "</div>"
      ],
      "text/plain": [
       "          City  Edition       Sport       Discipline             Athlete  NOC  \\\n",
       "18      Athens     1896   Athletics        Athletics        FLACK, Edwin  AUS   \n",
       "24      Athens     1896   Athletics        Athletics        FLACK, Edwin  AUS   \n",
       "51      Athens     1896     Cycling    Cycling Track       FLAMENG, Léon  FRA   \n",
       "55      Athens     1896     Cycling    Cycling Track       FLAMENG, Léon  FRA   \n",
       "61      Athens     1896     Cycling    Cycling Track       FLAMENG, Léon  FRA   \n",
       "...        ...      ...         ...              ...                 ...  ...   \n",
       "29015  Beijing     2008   Triathlon        Triathlon  FERNANDES, Vanessa  POR   \n",
       "29056  Beijing     2008  Volleyball       Volleyball       FUCHS, Samuel  BRA   \n",
       "29064  Beijing     2008  Volleyball       Volleyball           FENG, Kun  CHN   \n",
       "29160  Beijing     2008   Wrestling  Wrestling Free.   FEDORYSHYN, Vasyl  UKR   \n",
       "29207  Beijing     2008   Wrestling  Wrestling Gre-R       FODOR, Zoltan  HUN   \n",
       "\n",
       "      Gender            Event Event_gender   Medal  \n",
       "18       Men            1500m            M    Gold  \n",
       "24       Men             800m            M    Gold  \n",
       "51       Men            100km            M    Gold  \n",
       "55       Men             10km            M  Silver  \n",
       "61       Men  Sprint indivual            M  Bronze  \n",
       "...      ...              ...          ...     ...  \n",
       "29015  Women       Individual            W  Silver  \n",
       "29056    Men       volleyball            M  Silver  \n",
       "29064  Women       volleyball            W  Bronze  \n",
       "29160    Men        55 - 60kg            M  Silver  \n",
       "29207    Men        74 - 84kg            M  Silver  \n",
       "\n",
       "[945 rows x 10 columns]"
      ]
     },
     "execution_count": 2,
     "metadata": {},
     "output_type": "execute_result"
    }
   ],
   "source": [
    "df[df.Athlete.str.startswith('F')]   #gives start with 'F'  "
   ]
  },
  {
   "cell_type": "code",
   "execution_count": null,
   "id": "5f02bb56",
   "metadata": {},
   "outputs": [],
   "source": [
    "jj = df[df.Athlete == 'OWENS, Jesse']   #Jesse wons medal"
   ]
  },
  {
   "cell_type": "code",
   "execution_count": null,
   "id": "a8c30432",
   "metadata": {},
   "outputs": [],
   "source": [
    "jj.Event.value_counts()"
   ]
  },
  {
   "cell_type": "code",
   "execution_count": null,
   "id": "e5245cac",
   "metadata": {},
   "outputs": [],
   "source": [
    "#Gold Men Player only for Badminton and ascending in City wise\n",
    "jj = df[(df.Medal == 'Gold') & (df.Gender == 'Men') & (df.Sport == 'Badminton')]\n",
    "jj.sort_values(by = 'City')  "
   ]
  },
  {
   "cell_type": "code",
   "execution_count": null,
   "id": "a18cfb24",
   "metadata": {},
   "outputs": [],
   "source": [
    "#Won medal between 1984 to 2007\n",
    "df[(df.Edition >= 1984) & (df.Edition <= 2000)]"
   ]
  },
  {
   "cell_type": "code",
   "execution_count": null,
   "id": "3e59021a",
   "metadata": {},
   "outputs": [],
   "source": [
    "jj = df[(df.Edition >= 1984) & (df.Edition <= 2008)] \n",
    "jj.NOC.value_counts().head(3)   #Top 3 country "
   ]
  },
  {
   "cell_type": "code",
   "execution_count": null,
   "id": "1cbfbd68",
   "metadata": {},
   "outputs": [],
   "source": [
    "jj = df[(df.Medal == 'Gold') & (df.Event == '100m')]\n",
    "jj.sort_values('Edition',ascending= False)[['Edition','Athlete', 'NOC' , 'City']]"
   ]
  },
  {
   "cell_type": "code",
   "execution_count": null,
   "id": "957e1da5",
   "metadata": {},
   "outputs": [],
   "source": []
  },
  {
   "cell_type": "markdown",
   "id": "4d5cdcee",
   "metadata": {},
   "source": [
    "# Matplotlib\n"
   ]
  },
  {
   "cell_type": "code",
   "execution_count": null,
   "id": "b684225c",
   "metadata": {},
   "outputs": [],
   "source": [
    "import pandas as pd\n",
    "import matplotlib.pyplot as plt\n",
    "%matplotlib inline   #no idea why is this used\n",
    "op = df[df.Edition == 1896]\n",
    "op.head()\n"
   ]
  },
  {
   "cell_type": "code",
   "execution_count": null,
   "id": "940c1f98",
   "metadata": {},
   "outputs": [],
   "source": [
    "op.Sport.value_counts().plot(kind = 'bar')   #Bar graph  #op gives the bar graph only of 1896\n",
    "op\n",
    "\n",
    "#df.Gender.value_counts().plot(kind = 'bar')  #  but df prints bar garph for all the date\n",
    "#df"
   ]
  },
  {
   "cell_type": "code",
   "execution_count": 11,
   "id": "41f8de75",
   "metadata": {},
   "outputs": [
    {
     "data": {
      "text/plain": [
       "Text(0.5, 1.0, 'Male and Female data')"
      ]
     },
     "execution_count": 11,
     "metadata": {},
     "output_type": "execute_result"
    },
    {
     "data": {
      "image/png": "[encoded data removed]",
      "text/plain": [
       "<Figure size 720x360 with 1 Axes>"
      ]
     },
     "metadata": {
      "needs_background": "light"
     },
     "output_type": "display_data"
    }
   ],
   "source": [
    "import pandas as pd\n",
    "import matplotlib.pyplot as plt\n",
    "%matplotlib inline\n",
    "df = pd.read_csv(\"C:\\\\Users\\\\19195\\\\Desktop\\\\DataAnalytics\\\\Python\\\\Ex_Files_Pandas_EssT\\\\ExerciseFiles\\\\data\\\\olympics.csv\")\n",
    "df.Gender.value_counts().plot(kind = 'bar', color = 'Red', figsize = (10,5))   #Gender bar Graph   #gives red color\n",
    "plt.xlabel('Gender')\n",
    "plt.ylabel('Gender Count')\n",
    "plt.title('Male and Female data')"
   ]
  },
  {
   "cell_type": "markdown",
   "id": "b5011674",
   "metadata": {},
   "source": [
    "# Coloring and Figsize"
   ]
  },
  {
   "cell_type": "code",
   "execution_count": 5,
   "id": "4919c6df",
   "metadata": {},
   "outputs": [
    {
     "ename": "NameError",
     "evalue": "name 'op' is not defined",
     "output_type": "error",
     "traceback": [
      "\u001b[1;31m---------------------------------------------------------------------------\u001b[0m",
      "\u001b[1;31mNameError\u001b[0m                                 Traceback (most recent call last)",
      "Input \u001b[1;32mIn [5]\u001b[0m, in \u001b[0;36m<cell line: 1>\u001b[1;34m()\u001b[0m\n\u001b[1;32m----> 1\u001b[0m \u001b[43mop\u001b[49m\u001b[38;5;241m.\u001b[39mSport\u001b[38;5;241m.\u001b[39mvalue_counts()\u001b[38;5;241m.\u001b[39mplot(kind \u001b[38;5;241m=\u001b[39m \u001b[38;5;124m'\u001b[39m\u001b[38;5;124mbar\u001b[39m\u001b[38;5;124m'\u001b[39m, color \u001b[38;5;241m=\u001b[39m \u001b[38;5;124m'\u001b[39m\u001b[38;5;124morange\u001b[39m\u001b[38;5;124m'\u001b[39m, figsize \u001b[38;5;241m=\u001b[39m (\u001b[38;5;241m10\u001b[39m,\u001b[38;5;241m3\u001b[39m))\n\u001b[0;32m      2\u001b[0m op\n",
      "\u001b[1;31mNameError\u001b[0m: name 'op' is not defined"
     ]
    }
   ],
   "source": [
    "op.Sport.value_counts().plot(kind = 'bar', color = 'orange', figsize = (10,3))\n",
    "op"
   ]
  },
  {
   "cell_type": "code",
   "execution_count": null,
   "id": "928db7c1",
   "metadata": {},
   "outputs": [],
   "source": [
    "op.Sport.value_counts().plot(kind = 'pie',figsize = (15,7), colormap = 'Set2')\n",
    "op    #colormap and color is different\n",
    "    #color makes the same color of whole graph and \n",
    "    #colormap makes the different color in the single graph\n",
    "    #We can find name of color in matplotlip documentation source"
   ]
  },
  {
   "cell_type": "markdown",
   "id": "f5923daa",
   "metadata": {},
   "source": [
    "# set_index()"
   ]
  },
  {
   "cell_type": "code",
   "execution_count": null,
   "id": "c94609bd",
   "metadata": {},
   "outputs": [],
   "source": [
    "op.set_index('Athlete', inplace = True)   #when we do inplace = True, then oit makes changes to orginal DataFrame\n",
    "op.head()"
   ]
  },
  {
   "cell_type": "code",
   "execution_count": null,
   "id": "1dbc43ab",
   "metadata": {},
   "outputs": [],
   "source": []
  },
  {
   "cell_type": "markdown",
   "id": "c617b2e6",
   "metadata": {},
   "source": [
    "# GroupBy"
   ]
  },
  {
   "cell_type": "code",
   "execution_count": 4,
   "id": "6b6c82cc",
   "metadata": {},
   "outputs": [
    {
     "data": {
      "text/plain": [
       "[(1896,\n",
       "         City  Edition          Sport       Discipline  \\\n",
       "  0    Athens     1896       Aquatics         Swimming   \n",
       "  1    Athens     1896       Aquatics         Swimming   \n",
       "  2    Athens     1896       Aquatics         Swimming   \n",
       "  3    Athens     1896       Aquatics         Swimming   \n",
       "  4    Athens     1896       Aquatics         Swimming   \n",
       "  ..      ...      ...            ...              ...   \n",
       "  146  Athens     1896  Weightlifting    Weightlifting   \n",
       "  147  Athens     1896  Weightlifting    Weightlifting   \n",
       "  148  Athens     1896      Wrestling  Wrestling Gre-R   \n",
       "  149  Athens     1896      Wrestling  Wrestling Gre-R   \n",
       "  150  Athens     1896      Wrestling  Wrestling Gre-R   \n",
       "  \n",
       "                        Athlete  NOC Gender                        Event  \\\n",
       "  0               HAJOS, Alfred  HUN    Men               100m freestyle   \n",
       "  1            HERSCHMANN, Otto  AUT    Men               100m freestyle   \n",
       "  2           DRIVAS, Dimitrios  GRE    Men   100m freestyle for sailors   \n",
       "  3          MALOKINIS, Ioannis  GRE    Men   100m freestyle for sailors   \n",
       "  4          CHASAPIS, Spiridon  GRE    Men   100m freestyle for sailors   \n",
       "  ..                        ...  ...    ...                          ...   \n",
       "  146             JENSEN, Viggo  DEN    Men  heavyweight - two hand lift   \n",
       "  147       ELLIOTT, Launceston  GBR    Men  heavyweight - two hand lift   \n",
       "  148  CHRISTOPOULOS, Stephanos  GRE    Men                   open event   \n",
       "  149            SCHUMANN, Carl  GER    Men                   open event   \n",
       "  150          TSITAS, Georgios  GRE    Men                   open event   \n",
       "  \n",
       "      Event_gender   Medal  \n",
       "  0              M    Gold  \n",
       "  1              M  Silver  \n",
       "  2              M  Bronze  \n",
       "  3              M    Gold  \n",
       "  4              M  Silver  \n",
       "  ..           ...     ...  \n",
       "  146            M    Gold  \n",
       "  147            M  Silver  \n",
       "  148            M  Bronze  \n",
       "  149            M    Gold  \n",
       "  150            M  Silver  \n",
       "  \n",
       "  [151 rows x 10 columns])]"
      ]
     },
     "execution_count": 4,
     "metadata": {},
     "output_type": "execute_result"
    }
   ],
   "source": [
    "import pandas as pd\n",
    "import matplotlib.pyplot as plt\n",
    "%matplotlib inline\n",
    "df = pd.read_csv(\"C:\\\\Users\\\\19195\\\\Desktop\\\\DataAnalytics\\\\Python\\\\Ex_Files_Pandas_EssT\\\\ExerciseFiles\\\\data\\\\olympics.csv\")\n",
    "df1 = df[df.Edition == 1896]\n",
    "list(df1.groupby('Edition'))   #'It makes the gRoup in according to Date'"
   ]
  },
  {
   "cell_type": "markdown",
   "id": "105d56f3",
   "metadata": {},
   "source": [
    "# Groupby Computation"
   ]
  },
  {
   "cell_type": "code",
   "execution_count": null,
   "id": "8cb5e0d0",
   "metadata": {},
   "outputs": [],
   "source": [
    "df1.groupby('Edition').size()  #gives onlyone value bec Edition has 1896 value only on above code "
   ]
  },
  {
   "cell_type": "code",
   "execution_count": 2,
   "id": "91b6d29b",
   "metadata": {},
   "outputs": [
    {
     "ename": "NameError",
     "evalue": "name 'df' is not defined",
     "output_type": "error",
     "traceback": [
      "\u001b[1;31m---------------------------------------------------------------------------\u001b[0m",
      "\u001b[1;31mNameError\u001b[0m                                 Traceback (most recent call last)",
      "Input \u001b[1;32mIn [2]\u001b[0m, in \u001b[0;36m<cell line: 1>\u001b[1;34m()\u001b[0m\n\u001b[1;32m----> 1\u001b[0m \u001b[43mdf\u001b[49m\u001b[38;5;241m.\u001b[39mgroupby(\u001b[38;5;124m'\u001b[39m\u001b[38;5;124mSport\u001b[39m\u001b[38;5;124m'\u001b[39m)\u001b[38;5;241m.\u001b[39mmean()\n",
      "\u001b[1;31mNameError\u001b[0m: name 'df' is not defined"
     ]
    }
   ],
   "source": [
    "df.groupby('Sport').mean()"
   ]
  },
  {
   "cell_type": "code",
   "execution_count": 5,
   "id": "104112ab",
   "metadata": {},
   "outputs": [
    {
     "data": {
      "text/html": [
       "<div>\n",
       "<style scoped>\n",
       "    .dataframe tbody tr th:only-of-type {\n",
       "        vertical-align: middle;\n",
       "    }\n",
       "\n",
       "    .dataframe tbody tr th {\n",
       "        vertical-align: top;\n",
       "    }\n",
       "\n",
       "    .dataframe thead tr th {\n",
       "        text-align: left;\n",
       "    }\n",
       "\n",
       "    .dataframe thead tr:last-of-type th {\n",
       "        text-align: right;\n",
       "    }\n",
       "</style>\n",
       "<table border=\"1\" class=\"dataframe\">\n",
       "  <thead>\n",
       "    <tr>\n",
       "      <th></th>\n",
       "      <th></th>\n",
       "      <th></th>\n",
       "      <th></th>\n",
       "      <th>City</th>\n",
       "      <th>Sport</th>\n",
       "      <th>Discipline</th>\n",
       "      <th>Athlete</th>\n",
       "      <th>Event</th>\n",
       "      <th>Event_gender</th>\n",
       "    </tr>\n",
       "    <tr>\n",
       "      <th></th>\n",
       "      <th></th>\n",
       "      <th></th>\n",
       "      <th></th>\n",
       "      <th>count</th>\n",
       "      <th>count</th>\n",
       "      <th>count</th>\n",
       "      <th>count</th>\n",
       "      <th>count</th>\n",
       "      <th>count</th>\n",
       "    </tr>\n",
       "    <tr>\n",
       "      <th>Edition</th>\n",
       "      <th>NOC</th>\n",
       "      <th>Medal</th>\n",
       "      <th>Gender</th>\n",
       "      <th></th>\n",
       "      <th></th>\n",
       "      <th></th>\n",
       "      <th></th>\n",
       "      <th></th>\n",
       "      <th></th>\n",
       "    </tr>\n",
       "  </thead>\n",
       "  <tbody>\n",
       "    <tr>\n",
       "      <th rowspan=\"5\" valign=\"top\">1896</th>\n",
       "      <th>AUS</th>\n",
       "      <th>Gold</th>\n",
       "      <th>Men</th>\n",
       "      <td>2</td>\n",
       "      <td>2</td>\n",
       "      <td>2</td>\n",
       "      <td>2</td>\n",
       "      <td>2</td>\n",
       "      <td>2</td>\n",
       "    </tr>\n",
       "    <tr>\n",
       "      <th rowspan=\"3\" valign=\"top\">AUT</th>\n",
       "      <th>Bronze</th>\n",
       "      <th>Men</th>\n",
       "      <td>2</td>\n",
       "      <td>2</td>\n",
       "      <td>2</td>\n",
       "      <td>2</td>\n",
       "      <td>2</td>\n",
       "      <td>2</td>\n",
       "    </tr>\n",
       "    <tr>\n",
       "      <th>Gold</th>\n",
       "      <th>Men</th>\n",
       "      <td>2</td>\n",
       "      <td>2</td>\n",
       "      <td>2</td>\n",
       "      <td>2</td>\n",
       "      <td>2</td>\n",
       "      <td>2</td>\n",
       "    </tr>\n",
       "    <tr>\n",
       "      <th>Silver</th>\n",
       "      <th>Men</th>\n",
       "      <td>1</td>\n",
       "      <td>1</td>\n",
       "      <td>1</td>\n",
       "      <td>1</td>\n",
       "      <td>1</td>\n",
       "      <td>1</td>\n",
       "    </tr>\n",
       "    <tr>\n",
       "      <th>DEN</th>\n",
       "      <th>Bronze</th>\n",
       "      <th>Men</th>\n",
       "      <td>3</td>\n",
       "      <td>3</td>\n",
       "      <td>3</td>\n",
       "      <td>3</td>\n",
       "      <td>3</td>\n",
       "      <td>3</td>\n",
       "    </tr>\n",
       "  </tbody>\n",
       "</table>\n",
       "</div>"
      ],
      "text/plain": [
       "                           City Sport Discipline Athlete Event Event_gender\n",
       "                          count count      count   count count        count\n",
       "Edition NOC Medal  Gender                                                  \n",
       "1896    AUS Gold   Men        2     2          2       2     2            2\n",
       "        AUT Bronze Men        2     2          2       2     2            2\n",
       "            Gold   Men        2     2          2       2     2            2\n",
       "            Silver Men        1     1          1       1     1            1\n",
       "        DEN Bronze Men        3     3          3       3     3            3"
      ]
     },
     "execution_count": 5,
     "metadata": {},
     "output_type": "execute_result"
    }
   ],
   "source": [
    "df.groupby(['Edition', 'NOC', 'Medal', 'Gender']).agg(['count']).head()"
   ]
  },
  {
   "cell_type": "code",
   "execution_count": 6,
   "id": "fb5b965b",
   "metadata": {},
   "outputs": [
    {
     "data": {
      "text/plain": [
       "Text(0.5, 1.0, 'GroupBY Year')"
      ]
     },
     "execution_count": 6,
     "metadata": {},
     "output_type": "execute_result"
    },
    {
     "data": {
      "image/png": "[encoded data removed]",
      "text/plain": [
       "<Figure size 432x288 with 1 Axes>"
      ]
     },
     "metadata": {
      "needs_background": "light"
     },
     "output_type": "display_data"
    }
   ],
   "source": [
    "df.groupby(['Edition']).size().plot(kind = 'line')\n",
    "plt.title('GroupBY Year')"
   ]
  },
  {
   "cell_type": "code",
   "execution_count": null,
   "id": "9c90dd51",
   "metadata": {},
   "outputs": [],
   "source": [
    "df.groupby(['NOC']).agg({'Edition' : ['count','min', 'max']})"
   ]
  },
  {
   "cell_type": "code",
   "execution_count": 5,
   "id": "0ee5f3a0",
   "metadata": {},
   "outputs": [
    {
     "data": {
      "text/plain": [
       "<AxesSubplot:xlabel='Edition'>"
      ]
     },
     "execution_count": 5,
     "metadata": {},
     "output_type": "execute_result"
    },
    {
     "data": {
      "image/png": "[encoded data removed]",
      "text/plain": [
       "<Figure size 720x360 with 1 Axes>"
      ]
     },
     "metadata": {
      "needs_background": "light"
     },
     "output_type": "display_data"
    }
   ],
   "source": [
    "import pandas as pd\n",
    "import matplotlib.pyplot as plt\n",
    "%matplotlib inline\n",
    "df = pd.read_csv(\"C:\\\\Users\\\\19195\\\\Desktop\\\\DataAnalytics\\\\Python\\\\Ex_Files_Pandas_EssT\\\\ExerciseFiles\\\\data\\\\olympics.csv\")\n",
    "f = df[(df.NOC == 'USA') & (df.Medal == 'Gold')]\n",
    "f.groupby(['Gender', 'Edition']).size().unstack('Gender', fill_value = 0).plot(figsize = (10,5))"
   ]
  },
  {
   "cell_type": "code",
   "execution_count": 2,
   "id": "a3160ed8",
   "metadata": {},
   "outputs": [
    {
     "data": {
      "text/plain": [
       "<AxesSubplot:xlabel='Athlete'>"
      ]
     },
     "execution_count": 2,
     "metadata": {},
     "output_type": "execute_result"
    },
    {
     "data": {
      "image/png": "[encoded data removed]",
      "text/plain": [
       "<Figure size 432x288 with 1 Axes>"
      ]
     },
     "metadata": {
      "needs_background": "light"
     },
     "output_type": "display_data"
    }
   ],
   "source": [
    "g = df.groupby(['Athlete', 'Medal']).size().unstack('Medal', fill_value = 0)\n",
    "g.sort_values(['Gold', 'Silver','Bronze'], ascending = False)[['Gold', 'Silver','Bronze']].head().plot(kind = 'bar')"
   ]
  },
  {
   "cell_type": "code",
   "execution_count": 2,
   "id": "72dda2a3",
   "metadata": {},
   "outputs": [
    {
     "name": "stdout",
     "output_type": "stream",
     "text": [
      "Dash is running on http://127.0.0.1:8050/\n",
      "\n",
      "Dash is running on http://127.0.0.1:8050/\n",
      "\n",
      " * Serving Flask app '__main__'\n",
      " * Debug mode: on\n"
     ]
    },
    {
     "ename": "SystemExit",
     "evalue": "1",
     "output_type": "error",
     "traceback": [
      "An exception has occurred, use %tb to see the full traceback.\n",
      "\u001b[1;31mSystemExit\u001b[0m\u001b[1;31m:\u001b[0m 1\n"
     ]
    }
   ],
   "source": [
    "from dash import Dash, dcc, html\n",
    "\n",
    "app = Dash(__name__)\n",
    "\n",
    "app.layout = html.Div([\n",
    "    dcc.Slider(-5, 10, 1, value=-3)\n",
    "])\n",
    "\n",
    "if __name__ == '__main__':\n",
    "    app.run_server(debug=True)"
   ]
  },
  {
   "cell_type": "code",
   "execution_count": null,
   "id": "d6feb399",
   "metadata": {},
   "outputs": [
    {
     "name": "stderr",
     "output_type": "stream",
     "text": [
      "C:\\Users\\19195\\AppData\\Local\\Temp\\ipykernel_118288\\913690672.py:4: UserWarning: \n",
      "The dash_html_components package is deprecated. Please replace\n",
      "`import dash_html_components as html` with `from dash import html`\n",
      "  import dash_html_components as html\n",
      "C:\\Users\\19195\\AppData\\Local\\Temp\\ipykernel_118288\\913690672.py:5: UserWarning: \n",
      "The dash_core_components package is deprecated. Please replace\n",
      "`import dash_core_components as dcc` with `from dash import dcc`\n",
      "  import dash_core_components as dcc\n"
     ]
    },
    {
     "name": "stdout",
     "output_type": "stream",
     "text": [
      "Dash is running on http://127.0.0.1:8050/\n",
      "\n",
      " * Serving Flask app '__main__'\n",
      " * Debug mode: off\n"
     ]
    },
    {
     "name": "stderr",
     "output_type": "stream",
     "text": [
      "WARNING: This is a development server. Do not use it in a production deployment. Use a production WSGI server instead.\n",
      " * Running on http://127.0.0.1:8050\n",
      "Press CTRL+C to quit\n",
      "127.0.0.1 - - [12/Jan/2023 11:55:05] \"GET / HTTP/1.1\" 200 -\n",
      "127.0.0.1 - - [12/Jan/2023 11:55:05] \"GET /_dash-component-suites/dash/deps/polyfill@7.v2_7_0m1669044301.12.1.min.js HTTP/1.1\" 200 -\n",
      "127.0.0.1 - - [12/Jan/2023 11:55:05] \"GET /_dash-component-suites/dash/deps/react@16.v2_7_0m1669044301.14.0.min.js HTTP/1.1\" 200 -\n",
      "127.0.0.1 - - [12/Jan/2023 11:55:05] \"GET /_dash-component-suites/dash/deps/react-dom@16.v2_7_0m1669044301.14.0.min.js HTTP/1.1\" 200 -\n",
      "127.0.0.1 - - [12/Jan/2023 11:55:05] \"GET /_dash-component-suites/dash/deps/prop-types@15.v2_7_0m1669044301.8.1.min.js HTTP/1.1\" 200 -\n",
      "127.0.0.1 - - [12/Jan/2023 11:55:05] \"GET /_dash-component-suites/dash/dash-renderer/build/dash_renderer.v2_7_0m1669044301.min.js HTTP/1.1\" 200 -\n",
      "127.0.0.1 - - [12/Jan/2023 11:55:05] \"GET /_dash-component-suites/dash/dcc/dash_core_components.v2_7_0m1669044301.js HTTP/1.1\" 200 -\n",
      "127.0.0.1 - - [12/Jan/2023 11:55:05] \"GET /_dash-component-suites/dash/dcc/dash_core_components-shared.v2_7_0m1669044301.js HTTP/1.1\" 200 -\n",
      "127.0.0.1 - - [12/Jan/2023 11:55:05] \"GET /_dash-component-suites/dash/html/dash_html_components.v2_0_6m1669044301.min.js HTTP/1.1\" 200 -\n",
      "127.0.0.1 - - [12/Jan/2023 11:55:05] \"GET /_dash-component-suites/dash/dash_table/bundle.v5_2_0m1669044301.js HTTP/1.1\" 200 -\n",
      "127.0.0.1 - - [12/Jan/2023 11:55:06] \"GET /_dash-layout HTTP/1.1\" 200 -\n",
      "127.0.0.1 - - [12/Jan/2023 11:55:06] \"GET /_dash-dependencies HTTP/1.1\" 200 -\n",
      "127.0.0.1 - - [12/Jan/2023 11:55:06] \"GET /_favicon.ico?v=2.7.0 HTTP/1.1\" 200 -\n",
      "127.0.0.1 - - [12/Jan/2023 11:55:06] \"GET /_dash-component-suites/dash/dcc/async-dropdown.js HTTP/1.1\" 200 -\n"
     ]
    },
    {
     "name": "stdout",
     "output_type": "stream",
     "text": [
      "Exception on /_dash-update-component [POST]\n",
      "Traceback (most recent call last):\n",
      "  File \"C:\\Users\\19195\\AppData\\Local\\Programs\\Python\\Python39\\lib\\site-packages\\flask\\app.py\", line 2525, in wsgi_app\n",
      "    response = self.full_dispatch_request()\n",
      "  File \"C:\\Users\\19195\\AppData\\Local\\Programs\\Python\\Python39\\lib\\site-packages\\flask\\app.py\", line 1822, in full_dispatch_request\n",
      "    rv = self.handle_user_exception(e)\n",
      "  File \"C:\\Users\\19195\\AppData\\Local\\Programs\\Python\\Python39\\lib\\site-packages\\flask\\app.py\", line 1820, in full_dispatch_request\n",
      "    rv = self.dispatch_request()\n",
      "  File \"C:\\Users\\19195\\AppData\\Local\\Programs\\Python\\Python39\\lib\\site-packages\\flask\\app.py\", line 1796, in dispatch_request\n",
      "    return self.ensure_sync(self.view_functions[rule.endpoint])(**view_args)\n",
      "  File \"C:\\Users\\19195\\AppData\\Local\\Programs\\Python\\Python39\\lib\\site-packages\\dash\\dash.py\", line 1274, in dispatch\n",
      "    ctx.run(\n",
      "  File \"C:\\Users\\19195\\AppData\\Local\\Programs\\Python\\Python39\\lib\\site-packages\\dash\\_callback.py\", line 440, in add_context\n",
      "    output_value = func(*func_args, **func_kwargs)  # %% callback invoked %%\n",
      "  File \"C:\\Users\\19195\\AppData\\Local\\Temp\\ipykernel_118288\\913690672.py\", line 165, in get_graph\n",
      "    df =  airline_data[airline_data['Year']==int(year)]\n",
      "TypeError: int() argument must be a string, a bytes-like object or a number, not 'NoneType'\n"
     ]
    },
    {
     "name": "stderr",
     "output_type": "stream",
     "text": [
      "127.0.0.1 - - [12/Jan/2023 11:55:06] \"POST /_dash-update-component HTTP/1.1\" 500 -\n"
     ]
    }
   ],
   "source": [
    "# Import required libraries\n",
    "import pandas as pd\n",
    "import dash\n",
    "import dash_html_components as html\n",
    "import dash_core_components as dcc\n",
    "from dash.dependencies import Input, Output, State\n",
    "import plotly.graph_objects as go\n",
    "import plotly.express as px\n",
    "from dash import no_update\n",
    "\n",
    "\n",
    "# Create a dash application\n",
    "app = dash.Dash(__name__)\n",
    "\n",
    "# REVIEW1: Clear the layout and do not display exception till callback gets executed\n",
    "app.config.suppress_callback_exceptions = True\n",
    "\n",
    "# Read the airline data into pandas dataframe\n",
    "airline_data =  pd.read_csv('https://cf-courses-data.s3.us.cloud-object-storage.appdomain.cloud/IBMDeveloperSkillsNetwork-DV0101EN-SkillsNetwork/Data%20Files/airline_data.csv', \n",
    "                            encoding = \"ISO-8859-1\",\n",
    "                            dtype={'Div1Airport': str, 'Div1TailNum': str, \n",
    "                                   'Div2Airport': str, 'Div2TailNum': str})\n",
    "\n",
    "\n",
    "# List of years \n",
    "year_list = [i for i in range(2005, 2021, 1)]\n",
    "\n",
    "\"\"\"Compute graph data for creating yearly airline performance report \n",
    "\n",
    "Function that takes airline data as input and create 5 dataframes based on the grouping condition to be used for plottling charts and grphs.\n",
    "\n",
    "Argument:\n",
    "     \n",
    "    df: Filtered dataframe\n",
    "    \n",
    "Returns:\n",
    "   Dataframes to create graph. \n",
    "\"\"\"\n",
    "def compute_data_choice_1(df):\n",
    "    # Cancellation Category Count\n",
    "    bar_data = df.groupby(['Month','CancellationCode'])['Flights'].sum().reset_index()\n",
    "    # Average flight time by reporting airline\n",
    "    line_data = df.groupby(['Month','Reporting_Airline'])['AirTime'].mean().reset_index()\n",
    "    # Diverted Airport Landings\n",
    "    div_data = df[df['DivAirportLandings'] != 0.0]\n",
    "    # Source state count\n",
    "    map_data = df.groupby(['OriginState'])['Flights'].sum().reset_index()\n",
    "    # Destination state count\n",
    "    tree_data = df.groupby(['DestState', 'Reporting_Airline'])['Flights'].sum().reset_index()\n",
    "    return bar_data, line_data, div_data, map_data, tree_data\n",
    "\n",
    "\n",
    "\"\"\"Compute graph data for creating yearly airline delay report\n",
    "\n",
    "This function takes in airline data and selected year as an input and performs computation for creating charts and plots.\n",
    "\n",
    "Arguments:\n",
    "    df: Input airline data.\n",
    "    \n",
    "Returns:\n",
    "    Computed average dataframes for carrier delay, weather delay, NAS delay, security delay, and late aircraft delay.\n",
    "\"\"\"\n",
    "def compute_data_choice_2(df):\n",
    "    # Compute delay averages\n",
    "    avg_car = df.groupby(['Month','Reporting_Airline'])['CarrierDelay'].mean().reset_index()\n",
    "    avg_weather = df.groupby(['Month','Reporting_Airline'])['WeatherDelay'].mean().reset_index()\n",
    "    avg_NAS = df.groupby(['Month','Reporting_Airline'])['NASDelay'].mean().reset_index()\n",
    "    avg_sec = df.groupby(['Month','Reporting_Airline'])['SecurityDelay'].mean().reset_index()\n",
    "    avg_late = df.groupby(['Month','Reporting_Airline'])['LateAircraftDelay'].mean().reset_index()\n",
    "    return avg_car, avg_weather, avg_NAS, avg_sec, avg_late\n",
    "\n",
    "\n",
    "# Application layout\n",
    "app.layout = html.Div(children=[\n",
    "                                # TASK1: Add title to the dashboard\n",
    "                                # Enter your code below. Make sure you have correct formatting.\n",
    "                                html.H1('US Dolmestic Airline Flights Performance',\n",
    "                                style={'textAlign':'center','color':'#503D36',\n",
    "                                'font-size': 24}\n",
    "                                ),\n",
    "    \n",
    "                                # REVIEW2: Dropdown creation\n",
    "                                \n",
    "\n",
    "                                # Create an outer division \n",
    "                                html.Div([\n",
    "                                    # Add an division\n",
    "                                    html.Div([\n",
    "                                        # Create an division for adding dropdown helper text for report type\n",
    "                                        html.Div(\n",
    "                                            [\n",
    "                                            html.H2('Report Type:', style={'margin-right': '2em'}),\n",
    "                                            ]\n",
    "                                        ),\n",
    "                                        # TASK2: Add a dropdown\n",
    "                                        # Enter your code below. Make sure you have correct formatting.\n",
    "                                        dcc.Dropdown(id= 'input-type', options = [\n",
    "                                                        {'label': 'Yearly Airlines Performance report','value': 'OPT1'},\n",
    "                                                        {'label': 'Yearly Airline Delay Report', 'value': 'OPT2'}\n",
    "                                ],\n",
    "                                placeholder= 'Select a report type',\n",
    "                                style={'width':'80%','padding':'3px', 'font-size':'20px', \n",
    "                                'text-align-last': 'center'}),\n",
    "\n",
    "                                    # Place them next to each other using the division style\n",
    "                                    ], style={'display':'flex'}),\n",
    "                                    \n",
    "                                   # Add next division \n",
    "                                   html.Div([\n",
    "                                       # Create an division for adding dropdown helper text for choosing year\n",
    "                                        html.Div(\n",
    "                                            [\n",
    "                                            html.H2('Choose Year:', style={'margin-right': '2em'})\n",
    "                                            ]\n",
    "                                        ),\n",
    "                                        dcc.Dropdown(id='input-year', \n",
    "                                                     # Update dropdown values using list comphrehension\n",
    "                                                     options=[{'label': i, 'value': i} for i in year_list],\n",
    "                                                     placeholder=\"Select a year\",\n",
    "                                                     style={'width':'80%', 'padding':'3px', 'font-size': '20px',\n",
    "                                                     'text-align-last' : 'center'}),\n",
    "                                            # Place them next to each other using the division style\n",
    "                                            ], style={'display': 'flex'}),  \n",
    "                                          ]),\n",
    "                                \n",
    "                                # Add Computed graphs\n",
    "                                # REVIEW3: Observe how we add an empty division and providing an id that will be updated during callback\n",
    "                                html.Div([ ], id='plot1'),\n",
    "    \n",
    "                                html.Div([\n",
    "                                        html.Div([ ], id='plot2'),\n",
    "                                        html.Div([ ], id='plot3')\n",
    "                                ], style={'display': 'flex'}),\n",
    "                                \n",
    "                                # TASK3: Add a division with two empty divisions inside. See above disvision for example.\n",
    "                                # Enter your code below. Make sure you have correct formatting.\n",
    "                                html.Div([\n",
    "                                    html.Div([], id = 'plot4'),\n",
    "                                    html.Div([], id = 'plot5')\n",
    "                                ], style={'display':'flex'})\n",
    "                               \n",
    "                                ])\n",
    "\n",
    "# Callback function definition\n",
    "# TASK4: Add 5 ouput components\n",
    "# Enter your code below. Make sure you have correct formatting.\n",
    "@app.callback( [Output(component_id='plot1', component_property='children'),\n",
    "                Output(component_id='plot2', component_property= 'children'),\n",
    "                Output(component_id='plot3', component_property= 'children'),\n",
    "                Output(component_id='plot4', component_property= 'children'),\n",
    "                Output(component_id='plot5', component_property= 'children')\n",
    "                ],\n",
    "\n",
    "               [Input(component_id='input-type', component_property='value'),\n",
    "                Input(component_id='input-year', component_property='value')],\n",
    "               # REVIEW4: Holding output state till user enters all the form information. In this case, it will be chart type and year\n",
    "               [State(\"plot1\", 'children'), State(\"plot2\", \"children\"),\n",
    "                State(\"plot3\", \"children\"), State(\"plot4\", \"children\"),\n",
    "                State(\"plot5\", \"children\")\n",
    "               ])\n",
    "# Add computation to callback function and return graph\n",
    "def get_graph(chart, year, children1, children2, c3, c4, c5):\n",
    "      \n",
    "        # Select data\n",
    "        df =  airline_data[airline_data['Year']==int(year)]\n",
    "       \n",
    "        if chart == 'OPT1':\n",
    "            # Compute required information for creating graph from the data\n",
    "            bar_data, line_data, div_data, map_data, tree_data = compute_data_choice_1(df)\n",
    "            \n",
    "            # Number of flights under different cancellation categories\n",
    "            bar_fig = px.bar(bar_data, x='Month', y='Flights', color='CancellationCode', title='Monthly Flight Cancellation')\n",
    "            \n",
    "            # TASK5: Average flight time by reporting airline\n",
    "            # Enter your code below. Make sure you have correct formatting.\n",
    "            line_fig = px.line(line_data,x='Month', y='AirTime', \n",
    "            color='Reporting_Airline', title='Average monthly flight time(minutes) by airlines')\n",
    "\n",
    "            \n",
    "            # Percentage of diverted airport landings per reporting airline\n",
    "            pie_fig = px.pie(div_data, values='Flights', names='Reporting_Airline', title='% of flights by reporting airline')\n",
    "            \n",
    "            # REVIEW5: Number of flights flying from each state using choropleth\n",
    "            map_fig = px.choropleth(map_data,  # Input data\n",
    "                    locations='OriginState', \n",
    "                    color='Flights',  \n",
    "                    hover_data=['OriginState', 'Flights'], \n",
    "                    locationmode = 'USA-states', # Set to plot as US States\n",
    "                    color_continuous_scale='GnBu',\n",
    "                    range_color=[0, map_data['Flights'].max()]) \n",
    "            map_fig.update_layout(\n",
    "                    title_text = 'Number of flights from origin state', \n",
    "                    geo_scope='usa') # Plot only the USA instead of globe\n",
    "            \n",
    "            # TASK6: Number of flights flying to each state from each reporting airline\n",
    "            # Enter your code below. Make sure you have correct formatting.\n",
    "            tree_fig = px.treemap(tree_data, path=['DestState','Reporting_Airline'],\n",
    "                                  values='Flights', color='Flights', color_continuous_scale='RdBu',\n",
    "                                  title='Flight count by airline to destination state')\n",
    "            \n",
    "            \n",
    "            # REVIEW6: Return dcc.Graph component to the empty division\n",
    "            return [dcc.Graph(figure=tree_fig), \n",
    "                    dcc.Graph(figure=pie_fig),\n",
    "                    dcc.Graph(figure=map_fig),\n",
    "                    dcc.Graph(figure=bar_fig),\n",
    "                    dcc.Graph(figure=line_fig)\n",
    "                   ]\n",
    "        else:\n",
    "            # REVIEW7: This covers chart type 2 and we have completed this exercise under Flight Delay Time Statistics Dashboard section\n",
    "            # Compute required information for creating graph from the data\n",
    "            avg_car, avg_weather, avg_NAS, avg_sec, avg_late = compute_data_choice_2(df)\n",
    "            \n",
    "            # Create graph\n",
    "            carrier_fig = px.line(avg_car, x='Month', y='CarrierDelay', color='Reporting_Airline', title='Average carrrier delay time (minutes) by airline')\n",
    "            weather_fig = px.line(avg_weather, x='Month', y='WeatherDelay', color='Reporting_Airline', title='Average weather delay time (minutes) by airline')\n",
    "            nas_fig = px.line(avg_NAS, x='Month', y='NASDelay', color='Reporting_Airline', title='Average NAS delay time (minutes) by airline')\n",
    "            sec_fig = px.line(avg_sec, x='Month', y='SecurityDelay', color='Reporting_Airline', title='Average security delay time (minutes) by airline')\n",
    "            late_fig = px.line(avg_late, x='Month', y='LateAircraftDelay', color='Reporting_Airline', title='Average late aircraft delay time (minutes) by airline')\n",
    "            \n",
    "            return[dcc.Graph(figure=carrier_fig), \n",
    "                   dcc.Graph(figure=weather_fig), \n",
    "                   dcc.Graph(figure=nas_fig), \n",
    "                   dcc.Graph(figure=sec_fig), \n",
    "                   dcc.Graph(figure=late_fig)]\n",
    "\n",
    "\n",
    "# Run the app\n",
    "if __name__ == '__main__':\n",
    "    app.run_server()"
   ]
  },
  {
   "cell_type": "code",
   "execution_count": null,
   "id": "175a3a8c",
   "metadata": {},
   "outputs": [],
   "source": []
  },
  {
   "cell_type": "code",
   "execution_count": null,
   "id": "e638dbd1",
   "metadata": {},
   "outputs": [],
   "source": []
  }
 ],
 "metadata": {
  "kernelspec": {
   "display_name": "Python 3 (ipykernel)",
   "language": "python",
   "name": "python3"
  },
  "language_info": {
   "codemirror_mode": {
    "name": "ipython",
    "version": 3
   },
   "file_extension": ".py",
   "mimetype": "text/x-python",
   "name": "python",
   "nbconvert_exporter": "python",
   "pygments_lexer": "ipython3",
   "version": "3.9.13"
  }
 },
 "nbformat": 4,
 "nbformat_minor": 5
}
